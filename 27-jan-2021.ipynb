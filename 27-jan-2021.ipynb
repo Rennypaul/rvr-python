{
 "cells": [
  {
   "cell_type": "code",
   "execution_count": 1,
   "id": "velvet-elizabeth",
   "metadata": {},
   "outputs": [],
   "source": [
    "#based on arguments\n",
    "#1. default arg\n",
    "#2. required or positional arg\n",
    "#3. variable lenght arg\n",
    "#4. keyword arg"
   ]
  },
  {
   "cell_type": "code",
   "execution_count": 31,
   "id": "instant-marble",
   "metadata": {},
   "outputs": [
    {
     "data": {
      "text/plain": [
       "660"
      ]
     },
     "execution_count": 31,
     "metadata": {},
     "output_type": "execute_result"
    }
   ],
   "source": [
    "#1. default arg:\n",
    "def default(a = 10,b = 20,):\n",
    "    return a*b\n",
    "default()\n",
    "default(30)\n",
    "default(30,20)\n"
   ]
  },
  {
   "cell_type": "code",
   "execution_count": 3,
   "id": "optional-geology",
   "metadata": {},
   "outputs": [
    {
     "data": {
      "text/plain": [
       "range(0, 1)"
      ]
     },
     "execution_count": 3,
     "metadata": {},
     "output_type": "execute_result"
    }
   ],
   "source": [
    "range(1)"
   ]
  },
  {
   "cell_type": "code",
   "execution_count": 27,
   "id": "continuing-tuition",
   "metadata": {},
   "outputs": [
    {
     "data": {
      "text/plain": [
       "134"
      ]
     },
     "execution_count": 27,
     "metadata": {},
     "output_type": "execute_result"
    }
   ],
   "source": [
    "#2. required or positional arg\n",
    "def required (a,b=20,c=30):\n",
    "    return a**2+2*b+c\n",
    "required(8)"
   ]
  },
  {
   "cell_type": "code",
   "execution_count": 3,
   "id": "developmental-violence",
   "metadata": {},
   "outputs": [
    {
     "data": {
      "text/plain": [
       "23"
      ]
     },
     "execution_count": 3,
     "metadata": {},
     "output_type": "execute_result"
    }
   ],
   "source": [
    "#3. variable lenght arg:\n",
    "def var_len(a,b=20,*c):\n",
    "    return a+b+sum(c)\n",
    "var_len(2,20,1)\n",
    "    \n",
    "\n",
    "\n"
   ]
  },
  {
   "cell_type": "code",
   "execution_count": 19,
   "id": "middle-thickness",
   "metadata": {},
   "outputs": [
    {
     "name": "stdout",
     "output_type": "stream",
     "text": [
      "(1, 3, 4, 5)\n"
     ]
    }
   ],
   "source": [
    "a=1,3,4,5\n",
    "print(a)"
   ]
  },
  {
   "cell_type": "code",
   "execution_count": 4,
   "id": "composite-packing",
   "metadata": {},
   "outputs": [],
   "source": [
    "def var_len(a,b=20,*c):\n",
    "    return a,b,c\n",
    "a =var_len(10,10,50)\n",
    " "
   ]
  },
  {
   "cell_type": "code",
   "execution_count": 16,
   "id": "liberal-import",
   "metadata": {},
   "outputs": [
    {
     "name": "stdout",
     "output_type": "stream",
     "text": [
      "1 200 (11, 67)\n"
     ]
    }
   ],
   "source": [
    "s#4 . keyword arg\n",
    "def var_len(a,*c,b=20):\n",
    "    return a,b,c\n",
    "a,b,c = var_len(1,11,67,b=200)\n",
    "print(a,b,c)"
   ]
  },
  {
   "cell_type": "code",
   "execution_count": 5,
   "id": "fewer-filing",
   "metadata": {},
   "outputs": [
    {
     "ename": "NameError",
     "evalue": "name 'name' is not defined",
     "output_type": "error",
     "traceback": [
      "\u001b[1;31m---------------------------------------------------------------------------\u001b[0m",
      "\u001b[1;31mNameError\u001b[0m                                 Traceback (most recent call last)",
      "\u001b[1;32m<ipython-input-5-9e789507ec56>\u001b[0m in \u001b[0;36m<module>\u001b[1;34m\u001b[0m\n\u001b[0;32m      1\u001b[0m \u001b[1;32mdef\u001b[0m \u001b[0mkey_word\u001b[0m\u001b[1;33m(\u001b[0m\u001b[1;33m**\u001b[0m\u001b[0mname\u001b[0m\u001b[1;33m)\u001b[0m\u001b[1;33m:\u001b[0m\u001b[1;33m\u001b[0m\u001b[1;33m\u001b[0m\u001b[0m\n\u001b[0;32m      2\u001b[0m     \u001b[1;32mreturn\u001b[0m \u001b[0mname\u001b[0m\u001b[1;33m\u001b[0m\u001b[1;33m\u001b[0m\u001b[0m\n\u001b[1;32m----> 3\u001b[1;33m \u001b[0mkey_word\u001b[0m\u001b[1;33m(\u001b[0m\u001b[0mname\u001b[0m \u001b[1;33m[\u001b[0m\u001b[1;34m'abc'\u001b[0m\u001b[1;33m,\u001b[0m\u001b[1;34m'hello'\u001b[0m\u001b[1;33m]\u001b[0m\u001b[1;33m)\u001b[0m\u001b[1;33m\u001b[0m\u001b[1;33m\u001b[0m\u001b[0m\n\u001b[0m",
      "\u001b[1;31mNameError\u001b[0m: name 'name' is not defined"
     ]
    }
   ],
   "source": [
    "def key_word(**name):\n",
    "    return name\n",
    "key_word(name ['abc','hello'])"
   ]
  },
  {
   "cell_type": "code",
   "execution_count": null,
   "id": "suited-entertainment",
   "metadata": {},
   "outputs": [],
   "source": [
    "def prefect_gen(start,end):\n",
    "    for i in range(start,end+1):\n",
    "        if_Is prefect(i):\n",
    "            print(i)\n",
    "prefect_gen(start=1,end=1000) \n",
    "\n",
    "#STRINGS\n",
    "-what is astring?\n",
    " -collection of characters.\n",
    " -enclosed with single qoutes or double quotes(\"or\"\")"
   ]
  },
  {
   "cell_type": "code",
   "execution_count": 12,
   "id": "adapted-circuit",
   "metadata": {},
   "outputs": [
    {
     "name": "stdout",
     "output_type": "stream",
     "text": [
      "apssdc\n"
     ]
    }
   ],
   "source": [
    "g = 'apssdc'\n",
    "print(g)"
   ]
  },
  {
   "cell_type": "code",
   "execution_count": 13,
   "id": "sized-safety",
   "metadata": {},
   "outputs": [
    {
     "data": {
      "text/plain": [
       "'s'"
      ]
     },
     "execution_count": 13,
     "metadata": {},
     "output_type": "execute_result"
    }
   ],
   "source": [
    "#accesing the value\n",
    "g[3] # back indexing\n"
   ]
  },
  {
   "cell_type": "code",
   "execution_count": 15,
   "id": "automotive-arctic",
   "metadata": {},
   "outputs": [
    {
     "data": {
      "text/plain": [
       "'c'"
      ]
     },
     "execution_count": 15,
     "metadata": {},
     "output_type": "execute_result"
    }
   ],
   "source": [
    "g[-1] # backword indexing"
   ]
  },
  {
   "cell_type": "code",
   "execution_count": 16,
   "id": "skilled-philippines",
   "metadata": {
    "scrolled": true
   },
   "outputs": [
    {
     "name": "stdout",
     "output_type": "stream",
     "text": [
      "apssdc\n"
     ]
    },
    {
     "data": {
      "text/plain": [
       "'sdc'"
      ]
     },
     "execution_count": 16,
     "metadata": {},
     "output_type": "execute_result"
    }
   ],
   "source": [
    "# slicing\n",
    "print(g)\n",
    "g[3:]\n"
   ]
  },
  {
   "cell_type": "code",
   "execution_count": 20,
   "id": "miniature-difficulty",
   "metadata": {},
   "outputs": [
    {
     "data": {
      "text/plain": [
       "'apssdc'"
      ]
     },
     "execution_count": 20,
     "metadata": {},
     "output_type": "execute_result"
    }
   ],
   "source": [
    "g[0:6]"
   ]
  },
  {
   "cell_type": "code",
   "execution_count": 25,
   "id": "confused-batman",
   "metadata": {},
   "outputs": [
    {
     "data": {
      "text/plain": [
       "'sd'"
      ]
     },
     "execution_count": 25,
     "metadata": {},
     "output_type": "execute_result"
    }
   ],
   "source": [
    "g[-3:-1]"
   ]
  },
  {
   "cell_type": "code",
   "execution_count": 8,
   "id": "light-bidding",
   "metadata": {},
   "outputs": [
    {
     "name": "stdout",
     "output_type": "stream",
     "text": [
      "apssdc\n"
     ]
    },
    {
     "data": {
      "text/plain": [
       "'print(\"rvr\")\\nprint(\"ece\")'"
      ]
     },
     "execution_count": 8,
     "metadata": {},
     "output_type": "execute_result"
    }
   ],
   "source": [
    "print(\"apssdc\")\n",
    "'''print(\"rvr\")\n",
    "print(\"ece\")'''  # multiline comment\n"
   ]
  },
  {
   "cell_type": "code",
   "execution_count": 1,
   "id": "tough-brooklyn",
   "metadata": {},
   "outputs": [
    {
     "data": {
      "text/plain": [
       "'ABCABC'"
      ]
     },
     "execution_count": 1,
     "metadata": {},
     "output_type": "execute_result"
    }
   ],
   "source": [
    "g1 = \"ABCabc\"\n",
    "g1.upper() #upper method\n"
   ]
  },
  {
   "cell_type": "code",
   "execution_count": 2,
   "id": "temporal-conspiracy",
   "metadata": {},
   "outputs": [
    {
     "data": {
      "text/plain": [
       "'abcabc'"
      ]
     },
     "execution_count": 2,
     "metadata": {},
     "output_type": "execute_result"
    }
   ],
   "source": [
    "g1 = \"ABCabc\"\n",
    "g1.lower() #lower method\n"
   ]
  },
  {
   "cell_type": "code",
   "execution_count": 23,
   "id": "hydraulic-commerce",
   "metadata": {},
   "outputs": [
    {
     "data": {
      "text/plain": [
       "'$Apssdc $Python $Workshop'"
      ]
     },
     "execution_count": 23,
     "metadata": {},
     "output_type": "execute_result"
    }
   ],
   "source": [
    "g3 = '$apssdc $python $workshop'\n",
    "g3.title() #TITLE"
   ]
  },
  {
   "cell_type": "code",
   "execution_count": 24,
   "id": "subjective-ending",
   "metadata": {},
   "outputs": [
    {
     "name": "stdout",
     "output_type": "stream",
     "text": [
      " rvr ece\n"
     ]
    }
   ],
   "source": [
    "a = ' rvr'\n",
    "b = ' ece'\n",
    "c = a + b\n",
    "print(c)"
   ]
  },
  {
   "cell_type": "code",
   "execution_count": 20,
   "id": "white-stress",
   "metadata": {},
   "outputs": [
    {
     "name": "stdout",
     "output_type": "stream",
     "text": [
      " rvr   ece \n"
     ]
    }
   ],
   "source": [
    "a = ' rvr '\n",
    "b = ' ece '\n",
    "c = a+' '+b\n",
    "print(c)"
   ]
  },
  {
   "cell_type": "code",
   "execution_count": 28,
   "id": "brazilian-first",
   "metadata": {},
   "outputs": [
    {
     "data": {
      "text/plain": [
       "[' rvr ece']"
      ]
     },
     "execution_count": 28,
     "metadata": {},
     "output_type": "execute_result"
    }
   ],
   "source": [
    "c.split(g3)"
   ]
  },
  {
   "cell_type": "code",
   "execution_count": null,
   "id": "personalized-handbook",
   "metadata": {},
   "outputs": [],
   "source": []
  }
 ],
 "metadata": {
  "kernelspec": {
   "display_name": "Python 3",
   "language": "python",
   "name": "python3"
  },
  "language_info": {
   "codemirror_mode": {
    "name": "ipython",
    "version": 3
   },
   "file_extension": ".py",
   "mimetype": "text/x-python",
   "name": "python",
   "nbconvert_exporter": "python",
   "pygments_lexer": "ipython3",
   "version": "3.8.0"
  }
 },
 "nbformat": 4,
 "nbformat_minor": 5
}
